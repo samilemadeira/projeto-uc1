{
  "nbformat": 4,
  "nbformat_minor": 0,
  "metadata": {
    "colab": {
      "provenance": []
    },
    "kernelspec": {
      "name": "python3",
      "display_name": "Python 3"
    },
    "language_info": {
      "name": "python"
    }
  },
  "cells": [
    {
      "cell_type": "code",
      "source": [
        "nome_string_1 = input(\"Comecar atendimento?\\U0001F6D2 \")\n",
        "\n",
        "nomeUsuario = input(\"\\nDigite seu nome completo: \")\n",
        "cpfUsuario = int(input(\"Digite o seu CPF: \"))\n",
        "celularUsuario = int(input(\"Digite o seu numero de celular: \"))\n",
        "\n",
        "nome_string_2 = (\"\\nSeja bem vindo ao nosso mercado, vamos ver quanto você gastou aqui hoje!\")\n",
        "\n",
        "print(nome_string_2)\n",
        "\n",
        "nome_string_3 = (\"\\nPara isso, vamos precisar que você coloque o valor de cada mercadoria, sendo uma por vez.\")\n",
        "\n",
        "print(nome_string_3)\n",
        "\n",
        "valor1 = float(input(\"\\nDigite o primeiro valor: \"))\n",
        "valor2 = float(input(\"Digite o segundo valor: \"))\n",
        "valor3= float(input(\"Digite o terceiro valor: \"))\n",
        "valor4 = float(input(\"Digite o quarto valor: \"))\n",
        "valor5 = float(input(\"Digite o quinto valor: \"))\n",
        "valor6 = float(input(\"Digite o sexto valor: \"))\n",
        "valor7 = float(input(\"Digite o setimo valor: \"))\n",
        "valor8 = float(input(\"Digite o oitavo valor: \"))\n",
        "valor9 = float(input(\"Digite o nono valor: \"))\n",
        "valor10 = float(input(\"Digite o decimo e ultimo valor: \"))\n",
        "\n",
        "soma = valor1 + valor2 + valor3 + valor4 + valor5 + valor6 + valor7 + valor8 + valor9 + valor10\n",
        "print(f\"A soma de {valor1} , {valor2} , {valor3} , {valor4} , {valor5} , {valor6} , {valor7} , {valor8} , {valor9} e {valor10} é {soma}\")\n",
        "\n",
        "formaPagamento = input(\"\\nComo irá efetuar o pagamento? (Digite Cartao): \")\n",
        "\n",
        "if formaPagamento.lower() == 'cartao':\n",
        "    print(\"\\nPagamento efetuado.\\U0001F4B3 \")\n",
        "\n",
        "elif formaPagamento.lower() == '':\n",
        "    print(\"\\nVocê não inseriu uma forma de pagamento.\")\n",
        "\n",
        "else:\n",
        "    print(\"\\nForma de pagamento negada!\\U0001F6AB \")\n",
        "\n",
        "valores_mercadorias = [valor1, valor2, valor3, valor4, valor5, valor6, valor7, valor8, valor9, valor10]\n",
        "\n",
        "soma = sum(valores_mercadorias)\n",
        "print(f\"\\nA soma dos valores das mercadorias é: {soma}\")\n",
        "\n",
        "\n",
        "print(\"\\nValores das mercadorias:\")\n",
        "for valor in valores_mercadorias:\n",
        "    print(valor)"
      ],
      "metadata": {
        "id": "snm6wuggJVCa"
      },
      "execution_count": null,
      "outputs": []
    }
  ]
}