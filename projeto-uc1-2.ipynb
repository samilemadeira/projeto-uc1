{
  "nbformat": 4,
  "nbformat_minor": 0,
  "metadata": {
    "colab": {
      "provenance": []
    },
    "kernelspec": {
      "name": "python3",
      "display_name": "Python 3"
    },
    "language_info": {
      "name": "python"
    }
  },
  "cells": [
    {
      "cell_type": "code",
      "source": [
        "a = input(\"Digite seu nome completo: \")\n",
        "c = int(input(\"Digite o seu CPF: \"))\n",
        "d = int(input(\"Digite o seu numero de celular: \"))\n",
        "\n",
        "nome_string_1 = (\"\\nSeja bem vindo ao nosso mercado, vamos ver quanto você gastou aqui hoje!\")\n",
        "\n",
        "print(nome_string_1)\n",
        "\n",
        "nome_string_2 = (\"\\nPara isso, vamos precisar que você coloque o valor de cada mercadoria, sendo uma por vez.\")\n",
        "\n",
        "print(nome_string_2)\n",
        "\n",
        "valor1 = float(input(\"Digite o primeiro valor: \"))\n",
        "valor2 = float(input(\"Digite o segundo valor: \"))\n",
        "valor3= float(input(\"Digite o terceiro valor: \"))\n",
        "valor4 = float(input(\"Digite o quarto valor: \"))\n",
        "valor5 = float(input(\"Digite o quinto valor: \"))\n",
        "valor6 = float(input(\"Digite o sexto valor: \"))\n",
        "valor7 = float(input(\"Digite o setimo valor: \"))\n",
        "valor8 = float(input(\"Digite o oitavo valor: \"))\n",
        "valor9 = float(input(\"Digite o nono valor: \"))\n",
        "valor10 = float(input(\"Digite o decimo e ultimo valor: \"))\n",
        "\n",
        "soma = valor1 + valor2 + valor3 + valor4 + valor5 + valor6 + valor7 + valor8 + valor9 + valor10\n",
        "print(f\"A soma de {valor1} , {valor2} , {valor3} , {valor4} , {valor5} , {valor6} , {valor7} , {valor8} , {valor9} e {valor10} é {soma}\")\n",
        "\n",
        "h = input(\"\\nComo irá efetuar o pagamento ?\")\n",
        "\n",
        "1 = input(\"Dinheiro: \")\n",
        "2 = input(\"Cartao: \")\n",
        "\n",
        "if dinheiro:\n",
        "\n",
        "i = float(input(\"\\nOkay, agora preciso que voce coloque o valor da sua fatura: \"))\n",
        "\n",
        "if i > 500:\n",
        "  print(\"\\nSeu pagamento esta sendo efetuado, aguarde!\")\n",
        "\n",
        "elif i > 1000:\n",
        "  print(\"\\nSeu pagamento nao pode ser efetuado, a fatura esta muito alta\")\n",
        "\n",
        "else:\n",
        "  print(\"\\nSua fatura esta quitada, nao sera necessario efetuar o pagamento!\")\n",
        "\n",
        "nome_string_3 = (\"\\nencerramos por aqui, ate o proximo mes\")\n",
        "\n",
        "print(nome_string_3)"
      ],
      "metadata": {
        "id": "jEFYRVq6BhwT"
      },
      "execution_count": null,
      "outputs": []
    },
    {
      "cell_type": "code",
      "source": [
        "h = input(\"\\nComo irá efetuar o pagamento? (Digite 'Dinheiro' ou 'Cartao'): \")\n",
        "\n",
        "if h.lower() == 'dinheiro':\n",
        "\n",
        "    valor_pago = float(input(\"Digite o valor em dinheiro: \"))\n",
        "\n",
        "    valor_total = soma\n",
        "    troco = valor_pago - valor_total\n",
        "\n",
        "    print(f\"Troco: R${troco:.2f}\")\n",
        "\n",
        "elif h.lower() == 'cartao':\n",
        "    print(\"Pagamento com cartão. Nenhum troco necessário.\")\n",
        "\n",
        "else:\n",
        "    print(\"Método de pagamento inválido. Por favor, escolha 'Dinheiro' ou 'Cartao'.\")"
      ],
      "metadata": {
        "id": "PaGphTBIL35i"
      },
      "execution_count": null,
      "outputs": []
    },
    {
      "cell_type": "code",
      "source": [
        "a = input(\"Digite seu nome completo: \")\n",
        "c = int(input(\"Digite o seu CPF: \"))\n",
        "d = int(input(\"Digite o seu numero de celular: \"))\n",
        "\n",
        "nome_string_1 = (\"\\nSeja bem vindo ao nosso mercado, vamos ver quanto você gastou aqui hoje!\")\n",
        "\n",
        "print(nome_string_1)\n",
        "\n",
        "nome_string_2 = (\"\\nPara isso, vamos precisar que você coloque o valor de cada mercadoria, sendo uma por vez.\")\n",
        "\n",
        "print(nome_string_2)\n",
        "\n",
        "valor1 = float(input(\"Digite o primeiro valor: \"))\n",
        "valor2 = float(input(\"Digite o segundo valor: \"))\n",
        "valor3= float(input(\"Digite o terceiro valor: \"))\n",
        "valor4 = float(input(\"Digite o quarto valor: \"))\n",
        "valor5 = float(input(\"Digite o quinto valor: \"))\n",
        "valor6 = float(input(\"Digite o sexto valor: \"))\n",
        "valor7 = float(input(\"Digite o setimo valor: \"))\n",
        "valor8 = float(input(\"Digite o oitavo valor: \"))\n",
        "valor9 = float(input(\"Digite o nono valor: \"))\n",
        "valor10 = float(input(\"Digite o decimo e ultimo valor: \"))\n",
        "\n",
        "soma = valor1 + valor2 + valor3 + valor4 + valor5 + valor6 + valor7 + valor8 + valor9 + valor10\n",
        "print(f\"A soma de {valor1} , {valor2} , {valor3} , {valor4} , {valor5} , {valor6} , {valor7} , {valor8} , {valor9} e {valor10} é {soma}\")\n",
        "\n",
        "h = input(\"\\nComo irá efetuar o pagamento? (Digite 'Dinheiro' ou 'Cartao'): \")\n",
        "\n",
        "if h.lower() == 'dinheiro':\n",
        "\n",
        "    valor_pago = float(input(\"Digite o valor em dinheiro: \"))\n",
        "\n",
        "if valor_pago >= soma:\n",
        "        troco = valor_pago - soma\n",
        "\n",
        "elif h.lower() == 'palavra':\n",
        "  print(\"Valor insuficiente. Por favor, pague o valor total.\")\n",
        "\n",
        "elif h.lower() == 'cartao':\n",
        "  print(\"Pagamento com cartão. Nenhum troco necessário.\")\n",
        "\n",
        "else:\n",
        "  print(\"Método de pagamento inválido. Por favor, escolha 'Dinheiro' ou 'Cartao'.\")"
      ],
      "metadata": {
        "id": "XOPjWbPjSSrF"
      },
      "execution_count": null,
      "outputs": []
    }
  ]
}