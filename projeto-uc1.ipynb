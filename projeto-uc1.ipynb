{
  "nbformat": 4,
  "nbformat_minor": 0,
  "metadata": {
    "colab": {
      "provenance": []
    },
    "kernelspec": {
      "name": "python3",
      "display_name": "Python 3"
    },
    "language_info": {
      "name": "python"
    }
  },
  "cells": [
    {
      "cell_type": "code",
      "source": [
        "def calcular_preco_total(preco_unitario, quantidade, taxa_imposto):\n",
        "\n",
        "    preco_total = preco_unitario * quantidade * 1 + taxa_imposto\n",
        "\n",
        "    return preco_total\n",
        "\n",
        "def aplicar_desconto(preco_total):\n",
        "\n",
        "    desconto = 0.5 * preco_total if preco_total > 150 else 0\n",
        "\n",
        "    return preco_total - desconto\n",
        "\n",
        "def main():\n",
        "    nome_produto =\n",
        "\n",
        "input(\"Nome do produto: \")\n",
        "    preco_unitario =\n",
        "\n",
        "float(input(\"Preço unitário: \"))\n",
        "    quantidade =\n",
        "\n",
        "int(input(\"Quantidade desejada: \"))\n",
        "    taxa_imposto =\n",
        "\n",
        "float(input(\"Taxa de imposto: \"))\n",
        "\n",
        "    preco_final, desconto = aplicar_desconto(calcular_preco_total(preco_unitario, quantidade, taxa_imposto))\n",
        "\n",
        "    print(f\"\\nResumo da compra:\\nProduto: {nome_produto}\\nQuantidade: {quantidade}\\n\"\n",
        "    f\"Preço total: R${preco_final:.2f}\\n\"\n",
        "    f\"Desconto aplicado: R${desconto:.2f}\" if desconto > 0 else \"Nenhum desconto aplicado.\")\n",
        "\n",
        "    if __name__ == \"__main__\":\n",
        "      main()"
      ],
      "metadata": {
        "id": "n1UNXYUHFrI8"
      },
      "execution_count": null,
      "outputs": []
    }
  ]
}